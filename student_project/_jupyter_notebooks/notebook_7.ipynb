{
 "cells": [
  {
   "cell_type": "markdown",
   "metadata": {
    "slideshow": {
     "slide_type": "slide"
    }
   },
   "source": [
    "**Advanced Astroinformatics (Semester 1 2024)**\n",
    "# Supervised Classification, Data Processing Pipelines\n",
    "\n",
    "**Advanced Astroinformatics Student Project**\n",
    "\n",
    "*N. Hernitschek*\n",
    "\n",
    "\n",
    "\n",
    "---\n",
    "## Contents\n",
    "* [Recap, Questions](#first-bullet)\n",
    "* [Data Processing Pipelines](#second-bullet)\n",
    "* [Summary](#fifth-bullet)\n"
   ]
  },
  {
   "cell_type": "markdown",
   "metadata": {},
   "source": [
    "## 1. Recap, Questions <a class=\"anchor\" id=\"first-bullet\"></a>\n",
    "\n",
    "Time for questions!\n",
    "\n",
    "Your **tasks until this week** were:\n",
    "\n",
    "Based on what you have seen here: Use a multiclass supervised machine learning algorithm on the three TESS feature data sets, including making diagnostic plots and the classification scores.\n",
    "\n",
    "Hint: Use the `scikit-learn` documentation (a good starting point: https://scikit-learn.org/stable/modules/multiclass.html). You can also generally search for code examples and reuse parts of the code. Reusing code is a great way to learn. As always: When reusing code, never use this without understanding what the code does!\n",
    " \n",
    "\n",
    "If this works: \n",
    "\n",
    "Use a the k-means algorithm on the three TESS feature data sets, including making diagnostic plots.\n",
    "\n",
    "Try to interpret your results.\n",
    "How do your results differ from the a) _TESS_lightcurves_outliercleaned, b) _TESS_lightcurves_median_after_detrended, c) _TESS_lightcurves_raw?"
   ]
  },
  {
   "cell_type": "markdown",
   "metadata": {},
   "source": [
    "## 2. Data Processing Pipelines <a class=\"anchor\" id=\"fourth-bullet\"></a>\n",
    "\n",
    "We already have seen *data processing pipelines* to some extent:\n",
    "\n",
    "* TESS light-curve data were first detrended and outlier-cleaned: _TESS_lightcurves_raw $\\rightarrow$ _TESS_lightcurves_median_after_detrended $\\rightarrow$  _TESS_lightcurves_outliercleaned\n",
    "* features were calculated from (outlier-cleaned) TESS light-curve data\n",
    "* features were used for classification\n",
    "\n",
    "**Question:** \n",
    "Can you think of ways to improve the classification process?\n",
    "What does \"improve\" exactly mean? What we want to achieve?\n",
    "\n"
   ]
  },
  {
   "cell_type": "markdown",
   "metadata": {},
   "source": [
    "Large existing and upcoming surveys, such as LSST, rely and will rely heavily on data processing pipelines, e.g. for LSST:\n",
    "    \n",
    "    \n",
    "https://www.lsst.org/about/dm/pipelines\n",
    "\n",
    "https://antares.noirlab.edu/pipeline\n",
    "    \n",
    "Such surveys have the goal to:\n",
    "\n",
    "* find \"unknowns\", \"unknown unknowns\"\n",
    "* find more examples of the same types to build catalogs.\n",
    "    \n",
    "**Question:**\n",
    "How is this related to the science you are doing currently, and/or are planning to do?\n",
    "    "
   ]
  },
  {
   "cell_type": "markdown",
   "metadata": {},
   "source": [
    "## Summary <a class=\"anchor\" id=\"fifth-bullet\"></a>\n",
    "\n",
    "At this point, you should have:\n",
    "\n",
    "\n",
    "* seen how `scikit-learn` works in general\n",
    "* seen some complete examples of machine learning for both unsupervised and supervised classification in the case of binary and multiclass classification\n",
    "* seen ways on how to verify machine learning results for both unsupervised and supervised classification in the case of binary and multiclass classification.\n",
    "* seen how machine learning, and data processing pipelines in general, fit into the larger picture in processing astronomical data sets."
   ]
  },
  {
   "cell_type": "code",
   "execution_count": null,
   "metadata": {},
   "outputs": [],
   "source": []
  }
 ],
 "metadata": {
  "anaconda-cloud": {},
  "kernelspec": {
   "display_name": "Python 3 (ipykernel)",
   "language": "python",
   "name": "python3"
  },
  "language_info": {
   "codemirror_mode": {
    "name": "ipython",
    "version": 3
   },
   "file_extension": ".py",
   "mimetype": "text/x-python",
   "name": "python",
   "nbconvert_exporter": "python",
   "pygments_lexer": "ipython3",
   "version": "3.10.12"
  }
 },
 "nbformat": 4,
 "nbformat_minor": 1
}
